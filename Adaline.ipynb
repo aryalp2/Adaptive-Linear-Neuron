{
 "cells": [
  {
   "cell_type": "markdown",
   "metadata": {},
   "source": [
    "# Adaptive linear neurons and the convergence of learning"
   ]
  },
  {
   "cell_type": "markdown",
   "metadata": {},
   "source": [
    "## Implementing Adaline in Python"
   ]
  },
  {
   "cell_type": "code",
   "execution_count": 1,
   "metadata": {},
   "outputs": [],
   "source": [
    "import numpy as np\n",
    "\n",
    "class AdalineGD(object):\n",
    "    \"\"\" ADAptive LInear NEuron classifier\n",
    "    \n",
    "    Parameters\n",
    "    --------------\n",
    "    eta: float\n",
    "        Learning rate(between 0.0 and 1.0)\n",
    "    n_iter: int\n",
    "        Passes over training dataset\n",
    "    random_state: int\n",
    "        Random number generator seed for random weight initialization\n",
    "    \n",
    "    \n",
    "    Attributes\n",
    "    --------------\n",
    "    w_: 1d-array\n",
    "        weights after fitting\n",
    "    cost_ : list\n",
    "        Sum-of-squares cost function value in each epoch.\n",
    "       \n",
    "    \"\"\"\n",
    "    \n",
    "    def __init__(self , eta = 0.01 , n_iter = 50 , random_state = 1):\n",
    "        self.eta = eta\n",
    "        self.n_iter = n_iter \n",
    "        self.random_state = random_state\n",
    "    \n",
    "    def fit(self , X , y):\n",
    "        \"\"\" Fit training data \n",
    "        \n",
    "        Parameters\n",
    "        -------------\n",
    "        X : (array-like) , shape = [n_samples , n_features]\n",
    "            training vectors , where n_samples = # sample and n_features = # features\n",
    "            \n",
    "        y : (array-like) , shape = [n_samples]\n",
    "            Target values\n",
    "            \n",
    "        Returns\n",
    "        -----------\n",
    "        self:object\n",
    "        \"\"\"\n",
    "        \n",
    "        rgen = np.random.RandomState(self.random_state)\n",
    "        self.w_ = rgen.normal(loc = 0.0 , scale = 0.01 , size = 1 + X.shape[1])\n",
    "        self.cost_ = []\n",
    "        \n",
    "        for i in range(self.n_iter):\n",
    "            net_input = self.net_input(X)\n",
    "            output = self.activation(net_input)\n",
    "            errors = (y - output)\n",
    "            self.w_[0] += self.eta * errors.sum()\n",
    "            self.w_[1:] += self.eta * X.T.dot(errors)\n",
    "            cost = (errors**2).sum() / 2.0\n",
    "            self.cost_.append(cost)\n",
    "        \n",
    "        return self\n",
    "    \n",
    "    def net_input(self , X):\n",
    "        \"\"\"Calculate the net input \"\"\"\n",
    "        return np.dot(X , self.w_[1:]) + self.w_[0]\n",
    "    \n",
    "    def activation(self , X):\n",
    "        \"\"\"Compute linear activation\"\"\"\n",
    "        return X\n",
    "    \n",
    "    def predict(self , X):\n",
    "        \"\"\"Return class label after unit step\"\"\"\n",
    "        return np.where(self.activation(self.net_input(X)) >+ 0.0 , 1 , -1)\n",
    "    "
   ]
  },
  {
   "cell_type": "markdown",
   "metadata": {},
   "source": [
    "## Importing datasets"
   ]
  },
  {
   "cell_type": "code",
   "execution_count": 2,
   "metadata": {},
   "outputs": [
    {
     "data": {
      "text/html": [
       "<div>\n",
       "<style scoped>\n",
       "    .dataframe tbody tr th:only-of-type {\n",
       "        vertical-align: middle;\n",
       "    }\n",
       "\n",
       "    .dataframe tbody tr th {\n",
       "        vertical-align: top;\n",
       "    }\n",
       "\n",
       "    .dataframe thead th {\n",
       "        text-align: right;\n",
       "    }\n",
       "</style>\n",
       "<table border=\"1\" class=\"dataframe\">\n",
       "  <thead>\n",
       "    <tr style=\"text-align: right;\">\n",
       "      <th></th>\n",
       "      <th>0</th>\n",
       "      <th>1</th>\n",
       "      <th>2</th>\n",
       "      <th>3</th>\n",
       "      <th>4</th>\n",
       "    </tr>\n",
       "  </thead>\n",
       "  <tbody>\n",
       "    <tr>\n",
       "      <th>0</th>\n",
       "      <td>5.1</td>\n",
       "      <td>3.5</td>\n",
       "      <td>1.4</td>\n",
       "      <td>0.2</td>\n",
       "      <td>Iris-setosa</td>\n",
       "    </tr>\n",
       "    <tr>\n",
       "      <th>1</th>\n",
       "      <td>4.9</td>\n",
       "      <td>3.0</td>\n",
       "      <td>1.4</td>\n",
       "      <td>0.2</td>\n",
       "      <td>Iris-setosa</td>\n",
       "    </tr>\n",
       "    <tr>\n",
       "      <th>2</th>\n",
       "      <td>4.7</td>\n",
       "      <td>3.2</td>\n",
       "      <td>1.3</td>\n",
       "      <td>0.2</td>\n",
       "      <td>Iris-setosa</td>\n",
       "    </tr>\n",
       "    <tr>\n",
       "      <th>3</th>\n",
       "      <td>4.6</td>\n",
       "      <td>3.1</td>\n",
       "      <td>1.5</td>\n",
       "      <td>0.2</td>\n",
       "      <td>Iris-setosa</td>\n",
       "    </tr>\n",
       "    <tr>\n",
       "      <th>4</th>\n",
       "      <td>5.0</td>\n",
       "      <td>3.6</td>\n",
       "      <td>1.4</td>\n",
       "      <td>0.2</td>\n",
       "      <td>Iris-setosa</td>\n",
       "    </tr>\n",
       "  </tbody>\n",
       "</table>\n",
       "</div>"
      ],
      "text/plain": [
       "     0    1    2    3            4\n",
       "0  5.1  3.5  1.4  0.2  Iris-setosa\n",
       "1  4.9  3.0  1.4  0.2  Iris-setosa\n",
       "2  4.7  3.2  1.3  0.2  Iris-setosa\n",
       "3  4.6  3.1  1.5  0.2  Iris-setosa\n",
       "4  5.0  3.6  1.4  0.2  Iris-setosa"
      ]
     },
     "execution_count": 2,
     "metadata": {},
     "output_type": "execute_result"
    }
   ],
   "source": [
    "import pandas as pd\n",
    "df = pd.read_csv('F:/Study/[FreeTutorials.Us] Udemy - machine-learning-course-with-python/New folder/Projects/IRIS Flowers/iris.data', header = None)\n",
    "df.head()"
   ]
  },
  {
   "cell_type": "code",
   "execution_count": 3,
   "metadata": {},
   "outputs": [],
   "source": [
    "#select setosa and versicolor\n",
    "y = df.iloc[0:100,4].values\n",
    "y = np.where(y == 'Iris-setosa', -1 , 1)\n",
    "\n",
    "#extract sepal length and petal length\n",
    "X = df.iloc[0:100 , [0 , 2]].values\n"
   ]
  },
  {
   "cell_type": "code",
   "execution_count": 4,
   "metadata": {},
   "outputs": [
    {
     "data": {
      "image/png": "[encoded data removed]",
      "text/plain": [
       "<Figure size 720x288 with 2 Axes>"
      ]
     },
     "metadata": {
      "needs_background": "light"
     },
     "output_type": "display_data"
    }
   ],
   "source": [
    "import matplotlib.pyplot as plt\n",
    "\n",
    "fig , ax = plt.subplots(nrows = 1 , ncols = 2 , figsize = (10 , 4))\n",
    "\n",
    "ada1 = AdalineGD(n_iter = 10 , eta = 0.01).fit(X , y)\n",
    "ax[0].plot(range(1 , len(ada1.cost_)+1) , np.log(ada1.cost_) , marker = 'o')\n",
    "ax[0].set_xlabel('Epochs')\n",
    "ax[0].set_ylabel('log(Sum-squared-error)')\n",
    "ax[0].set_title('Adaline-Learning rate 0.01')\n",
    "\n",
    "ada2 = AdalineGD(n_iter = 10 , eta = 0.0001).fit(X , y)\n",
    "ax[1].plot(range(1 , len(ada2.cost_)+1) , np.log(ada2.cost_) , marker = 'o')\n",
    "ax[1].set_xlabel('Epochs')\n",
    "ax[1].set_ylabel('Sum-squared-error')\n",
    "ax[1].set_title('Adaline-Learning rate 0.0001')\n",
    "plt.show()"
   ]
  },
  {
   "cell_type": "markdown",
   "metadata": {},
   "source": [
    "## Improving Gradient Descent through feature scaling"
   ]
  },
  {
   "cell_type": "code",
   "execution_count": 5,
   "metadata": {},
   "outputs": [],
   "source": [
    "#standardization of GD\n",
    "\n",
    "X_std = np.copy(X)\n",
    "X_std[: , 0] = (X[: , 0] - X[: , 0].mean()) / X[: , 0].std()\n",
    "X_std[: , 1] = (X[: , 1] - X[: , 1].mean()) / X[: , 1].std()"
   ]
  },
  {
   "cell_type": "code",
   "execution_count": 6,
   "metadata": {},
   "outputs": [
    {
     "data": {
      "image/png": "[encoded data removed]",
      "text/plain": [
       "<Figure size 432x288 with 1 Axes>"
      ]
     },
     "metadata": {
      "needs_background": "light"
     },
     "output_type": "display_data"
    },
    {
     "data": {
      "image/png": "[encoded data removed]",
      "text/plain": [
       "<Figure size 432x288 with 1 Axes>"
      ]
     },
     "metadata": {
      "needs_background": "light"
     },
     "output_type": "display_data"
    }
   ],
   "source": [
    "#visualization of decision boundaries for two-dimensional datasets\n",
    "from matplotlib.colors import ListedColormap\n",
    "def plot_decision_regions(X , y , classifier , resolution = 0.02):\n",
    "    \n",
    "    #setup marker generator and color map\n",
    "    markers = ('s' , 'x' , 'o' , '^' , 'v')\n",
    "    colors = ('red' , 'blue' , 'lightgreen' , 'gray' , 'cyan')\n",
    "    cmap = ListedColormap(colors[: len(np.unique(y))])\n",
    "    \n",
    "    #plot decision surface\n",
    "    x1_min , x1_max = X[: , 0].min() - 1 , X[: , 0].max() + 1\n",
    "    x2_min , x2_max = X[: , 1].min() - 1 , X[: , 1].max() + 1\n",
    "    xx1 , xx2 = np.meshgrid(np.arange(x1_min , x1_max , resolution),np.arange(x2_min , x2_max , resolution))\n",
    "    z = classifier.predict(np.array([xx1.ravel() , xx2.ravel()]).T)\n",
    "    z = z.reshape(xx1.shape)\n",
    "    plt.contourf(xx1 , xx2 , z , alpha = 0.3 , cmap = cmap)\n",
    "    plt.xlim(xx1.min() , xx1.max())\n",
    "    plt.ylim(xx2.min() , xx2.max())\n",
    "    \n",
    "    #plot class samples\n",
    "    for idx , cl in enumerate(np.unique(y)):\n",
    "        plt.scatter( x = X[y == cl , 0] , \n",
    "                     y = X[y == cl , 1] , \n",
    "                     alpha = 0.8 , \n",
    "                     c = colors[idx] , \n",
    "                     marker = markers[idx] , \n",
    "                     label = cl ,\n",
    "                     edgecolor = 'black'\n",
    "        )\n",
    "        \n",
    "ada = AdalineGD(n_iter = 15 , eta = 0.01)\n",
    "ada.fit(X_std , y)\n",
    "\n",
    "plot_decision_regions(X_std, y, classifier=ada)\n",
    "plt.title('Adaline - Gradient Descent') \n",
    "plt.xlabel('sepal length [standardized]') \n",
    "plt.ylabel('petal length [standardized]') \n",
    "plt.legend(loc='upper left') \n",
    "plt.tight_layout() \n",
    "plt.show() \n",
    "plt.plot(range(1, len(ada.cost_) + 1), ada.cost_, marker='o') \n",
    "plt.xlabel('Epochs') \n",
    "plt.ylabel('Sum-squared-error') \n",
    "plt.show()"
   ]
  },
  {
   "cell_type": "code",
   "execution_count": 7,
   "metadata": {},
   "outputs": [
    {
     "data": {
      "text/plain": [
       "array(1)"
      ]
     },
     "execution_count": 7,
     "metadata": {},
     "output_type": "execute_result"
    }
   ],
   "source": [
    "ada.predict([5.8, 3.2])"
   ]
  }
 ],
 "metadata": {
  "kernelspec": {
   "display_name": "Python 3",
   "language": "python",
   "name": "python3"
  },
  "language_info": {
   "codemirror_mode": {
    "name": "ipython",
    "version": 3
   },
   "file_extension": ".py",
   "mimetype": "text/x-python",
   "name": "python",
   "nbconvert_exporter": "python",
   "pygments_lexer": "ipython3",
   "version": "3.7.6"
  }
 },
 "nbformat": 4,
 "nbformat_minor": 2
}
